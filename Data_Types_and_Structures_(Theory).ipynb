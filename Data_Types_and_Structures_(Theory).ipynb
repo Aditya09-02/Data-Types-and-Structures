{
  "nbformat": 4,
  "nbformat_minor": 0,
  "metadata": {
    "colab": {
      "provenance": []
    },
    "kernelspec": {
      "name": "python3",
      "display_name": "Python 3"
    },
    "language_info": {
      "name": "python"
    }
  },
  "cells": [
    {
      "cell_type": "markdown",
      "source": [
        "Q1. What are data structures, and why are they important ?"
      ],
      "metadata": {
        "id": "ceBvsqE11L-c"
      }
    },
    {
      "cell_type": "markdown",
      "source": [
        "Ans. Data structures are organized ways to store, manage, and retrieve data efficiently. They are essential because they optimize performance, improve code efficiency, and enable effective data manipulation in software applications. Common types include arrays, linked lists, stacks, queues, trees, and graphs."
      ],
      "metadata": {
        "id": "B-wVtzAd2lU0"
      }
    },
    {
      "cell_type": "markdown",
      "source": [
        "Q2.  Explain the difference between mutable and immutable data types with examples ?"
      ],
      "metadata": {
        "id": "xG2atGOs2o4C"
      }
    },
    {
      "cell_type": "markdown",
      "source": [
        "Ans.\n",
        "\n",
        "(A) Mutable data types can be changed after creation.\n",
        "\n",
        "Examples:\n",
        "\n",
        "1. Mutable: list, dict, set\n",
        "\n",
        "my_list = [1, 2, 3]\n",
        "my_list.append(4)  # List is modified\n",
        "print(my_list)  # Output: [1, 2, 3, 4]\n",
        "\n",
        "(B) Immutable data types cannot be modified once created.\n",
        "\n",
        "Examples:\n",
        "\n",
        "2. Immutable: int, float, str, tuple\n",
        "\n",
        "my_str = \"hello\"\n",
        "my_str += \" world\"  # Creates a new string instead of modifying the original\n",
        "print(my_str)  # Output: \"hello world\""
      ],
      "metadata": {
        "id": "kHWTjHbc2wFK"
      }
    },
    {
      "cell_type": "markdown",
      "source": [
        "Q3. What are the main differences between lists and tuples in Python ?"
      ],
      "metadata": {
        "id": "EGEJt-T53lU7"
      }
    },
    {
      "cell_type": "markdown",
      "source": [
        "Ans. Main Differences Between Lists and Tuples in Python\n",
        "\n",
        "1. List:\n",
        "\n",
        "(A) Mutability: Mutable (can be modified)\n",
        "\n",
        "(B) Syntax: [] (square brackets)\n",
        "\n",
        "(C) Performance: Slower (due to mutability)\n",
        "\n",
        "(D) Memory Usage: Uses more memory\n",
        "\n",
        "(E) Methods Available: More (e.g., append(), remove())\n",
        "\n",
        "(F) Use Case: When data needs to change\n",
        "\n",
        "# List (Mutable)\n",
        "my_list = [1, 2, 3]\n",
        "my_list.append(4)  # Allowed\n",
        "print(my_list)  # [1, 2, 3, 4]\n",
        "\n",
        "\n",
        "2. Tuple:\n",
        "\n",
        "(A) Mutability: Immutable (cannot be modified)\n",
        "\n",
        "(B) Syntax: () (parentheses)\n",
        "\n",
        "(C) Performance: Faster (due to immutability)\n",
        "\n",
        "(D) Memory Usage: Uses less memory\n",
        "\n",
        "(E) Methods Available: Fewer (only count(), index())\n",
        "\n",
        "(F) Use Case: When data should remain constant\n",
        "\n",
        "# Tuple (Immutable)\n",
        "my_tuple = (1, 2, 3)\n",
        "# my_tuple.append(4)  # Error: Tuples don't support item modification\n",
        "\n"
      ],
      "metadata": {
        "id": "pXa5aq0v4fYw"
      }
    },
    {
      "cell_type": "markdown",
      "source": [
        "Q4. Describe how dictionaries store data ?"
      ],
      "metadata": {
        "id": "_yZGBVjOqx_h"
      }
    },
    {
      "cell_type": "markdown",
      "source": [
        "Ans. Dictionaries in Python store data as key-value pairs using a hashing mechanism for fast lookups. Each key is unique and mapped to a specific value, allowing efficient data retrieval.\n",
        "\n",
        "1. Structure:\n",
        "\n",
        "my_dict = {\"name\": \"Alice\", \"age\": 25, \"city\": \"New York\"}\n",
        "\n",
        "(A) Keys must be immutable (str, int, tuple).\n",
        "\n",
        "(B) Values can be any data type.\n",
        "\n",
        "(C) Accessing values is fast using dict[key].\n",
        "\n",
        "Example:\n",
        "\n",
        "print(my_dict[\"name\"])  # Output: Alice\n",
        "my_dict[\"age\"] = 26  # Updating value"
      ],
      "metadata": {
        "id": "Smo1BuaxrIye"
      }
    },
    {
      "cell_type": "markdown",
      "source": [
        "Q5. Why might you use a set instead of a list in Python ?\n"
      ],
      "metadata": {
        "id": "ZK4f1rMDsO12"
      }
    },
    {
      "cell_type": "markdown",
      "source": [
        "Ans. Use a set instead of a list in Python when:\n",
        "\n",
        "1. Uniqueness – Sets store only unique elements, automatically removing duplicates.\n",
        "\n",
        "2. Faster Lookups - Checking for membership (x in set) is O(1) on average, compared to O(n) for lists.\n",
        "\n",
        "3. Set Operations – Supports efficient operations like union, intersection, and difference."
      ],
      "metadata": {
        "id": "ApjZCDEFsUfd"
      }
    },
    {
      "cell_type": "markdown",
      "source": [
        "Q6. What is a string in Python, and how is it different from a list ?"
      ],
      "metadata": {
        "id": "_vHAi91osCdp"
      }
    },
    {
      "cell_type": "markdown",
      "source": [
        "Ans. A string in Python is an immutable sequence of characters, used to represent text.\n",
        "\n",
        "Differences from a List:\n",
        "\n",
        "1. Mutability – Strings are immutable (cannot be changed), while lists are mutable (can be modified).\n",
        "\n",
        "2. Elements – Strings contain only characters, while lists can hold multiple data types.\n",
        "\n",
        "3. Operations – Lists support item reassignment (list[0] = new_value), but strings do not (string[0] = new_value ❌)."
      ],
      "metadata": {
        "id": "vSgfXIpDsHfc"
      }
    },
    {
      "cell_type": "markdown",
      "source": [
        "Q7.  How do tuples ensure data integrity in Python ?"
      ],
      "metadata": {
        "id": "F0Pq-gH3sU1O"
      }
    },
    {
      "cell_type": "markdown",
      "source": [
        "Ans.  Tuples ensure data integrity in Python because they are immutable, meaning their elements cannot be modified, added, or removed after creation. This prevents accidental changes, making tuples ideal for storing constant or fixed data, such as database records or function returns.\n"
      ],
      "metadata": {
        "id": "OxW232Sssd_z"
      }
    },
    {
      "cell_type": "markdown",
      "source": [
        "Q8. What is a hash table, and how does it relate to dictionaries in Python ?"
      ],
      "metadata": {
        "id": "1tg-R8N7shgh"
      }
    },
    {
      "cell_type": "markdown",
      "source": [
        "Ans. A hash table is a data structure that stores key-value pairs and uses a hash function to map keys to unique indexes for fast lookups.\n",
        "\n",
        "In Python, a dictionary (dict) is an implementation of a hash table, providing:\n",
        "\n",
        "1.Fast Lookups – Average O(1) time complexity for retrieving values.\n",
        "\n",
        "2.Key Uniqueness – Each key is hashed to ensure uniqueness.\n",
        "\n",
        "3.Efficient Storage – Uses dynamic resizing to optimize performance.\n",
        "\n",
        "Thus, Python dictionaries leverage hash tables for efficient key-value storage and retrieval."
      ],
      "metadata": {
        "id": "lYPEKMtXsn3u"
      }
    },
    {
      "cell_type": "markdown",
      "source": [
        "Q9. Can lists contain different data types in Python ?"
      ],
      "metadata": {
        "id": "smf33czXtYRl"
      }
    },
    {
      "cell_type": "markdown",
      "source": [
        "Ans.  Yes, lists in Python can contain different data types. A single list can hold integers, strings, floats, booleans, other lists, tuples, dictionaries, or even functions.\n",
        "\n",
        "Example:\n",
        "\n",
        "my_list = [42, \"hello\", 3.14, True, [1, 2, 3], {\"key\": \"value\"}]"
      ],
      "metadata": {
        "id": "pCnUF7cvtbTb"
      }
    },
    {
      "cell_type": "markdown",
      "source": [
        "Q10. Explain why strings are immutable in Python ?"
      ],
      "metadata": {
        "id": "yLUDNpMGtko8"
      }
    },
    {
      "cell_type": "markdown",
      "source": [
        "Ans. Strings are immutable in Python to ensure security, efficiency, and hashability:\n",
        "\n",
        "1.Memory Optimization – Shared string references avoid duplication, saving memory.\n",
        "\n",
        "2.Security & Integrity – Prevents accidental modifications, ensuring reliable data handling.\n",
        "\n",
        "3.Hashability – Allows strings to be used as dictionary keys and set elements.\n",
        "\n",
        "To modify a string, a new string must be created, as existing ones cannot change."
      ],
      "metadata": {
        "id": "9NWVy6cMtqbC"
      }
    },
    {
      "cell_type": "markdown",
      "source": [
        "Q11. What advantages do dictionaries offer over lists for certain tasks ?"
      ],
      "metadata": {
        "id": "ZcT7kI2Ct27L"
      }
    },
    {
      "cell_type": "markdown",
      "source": [
        "Ans. Dictionaries offer several advantages over lists for certain tasks:\n",
        "\n",
        "1. Fast Lookups – Dictionaries provide O(1) average time complexity for key-based lookups, while lists require O(n) for searching.\n",
        "\n",
        "2. Key-Value Mapping – Store data in an organized key-value format, making retrieval more intuitive.\n",
        "\n",
        "3. Uniqueness – Keys must be unique, preventing duplicate entries.\n",
        "\n",
        "4. Efficient Updates – Adding, updating, or deleting elements is faster compared to modifying a list.\n",
        "\n",
        "5. Flexible Data Storage – Can store heterogeneous data efficiently using descriptive keys.\n",
        "\n",
        "Use dictionaries when associating values with unique keys, and lists when order and sequential access matter."
      ],
      "metadata": {
        "id": "hlV8lLlRuBss"
      }
    },
    {
      "cell_type": "markdown",
      "source": [
        "Q12.  Describe a scenario where using a tuple would be preferable over a list ?"
      ],
      "metadata": {
        "id": "eOXWbMszuLJH"
      }
    },
    {
      "cell_type": "markdown",
      "source": [
        "Ans. Use a tuple over a list when you need immutable, fixed data for safety and efficiency.\n",
        "\n",
        "Example Scenario:\n",
        "\n",
        "1. Database Records – Storing user information like (ID, Name, DOB), where data should not change:\n",
        "\n",
        "user = (101, \"Alice\", \"1995-06-15\")  # Ensures integrity  \n",
        "\n",
        "Tuples are faster than lists and can be used as dictionary keys (since they are hashable).\n",
        "\n",
        "\n",
        "\n",
        "\n",
        "\n",
        "\n",
        "\n"
      ],
      "metadata": {
        "id": "kzvpHqffuUuO"
      }
    },
    {
      "cell_type": "markdown",
      "source": [
        "Q13. How do sets handle duplicate values in Python ?"
      ],
      "metadata": {
        "id": "ONxlW3yZufuC"
      }
    },
    {
      "cell_type": "markdown",
      "source": [
        "Ans.  Sets in Python automatically remove duplicate values because they store only unique elements. When adding elements, Python checks for duplicates and keeps only one occurrence.\n",
        "\n",
        "Example:\n",
        "\n",
        "my_set = {1, 2, 2, 3, 4, 4}\n",
        "print(my_set)  # Output: {1, 2, 3, 4}\n",
        "\n",
        "This makes sets useful for removing duplicates from lists and performing set operations like union and intersection.\n"
      ],
      "metadata": {
        "id": "odAVqxq6urgT"
      }
    },
    {
      "cell_type": "markdown",
      "source": [
        "Q14. How does the “in” keyword work differently for lists and dictionaries ?"
      ],
      "metadata": {
        "id": "sDKQ89zsu31s"
      }
    },
    {
      "cell_type": "markdown",
      "source": [
        "Ans.  The in keyword works differently for lists and dictionaries in Python:\n",
        "\n",
        "1. Lists – Checks if a value exists in the list (O(n) time complexity).\n",
        "\n",
        "my_list = [10, 20, 30]\n",
        "print(20 in my_list)  # True\n",
        "\n",
        "2. Dictionaries – Checks if a key exists (O(1) average time complexity).\n",
        "\n",
        "my_dict = {\"a\": 1, \"b\": 2}\n",
        "print(\"a\" in my_dict)  # True\n",
        "print(1 in my_dict)    # False (checks keys, not values)\n",
        "\n",
        "Use in with lists for searching values and with dictionaries for checking keys."
      ],
      "metadata": {
        "id": "8vGN6YUeu8xs"
      }
    },
    {
      "cell_type": "markdown",
      "source": [
        "Q15. Can you modify the elements of a tuple? Explain why or why not ?"
      ],
      "metadata": {
        "id": "Kf85rRxovYCc"
      }
    },
    {
      "cell_type": "markdown",
      "source": [
        "Ans. No, you cannot modify the elements of a tuple because tuples are immutable in Python.\n",
        "\n",
        "Why?\n",
        "\n",
        "1. Data Integrity – Prevents accidental changes.\n",
        "\n",
        "2. Memory Efficiency – Allows Python to optimize storage.\n",
        "\n",
        "3. Hashability – Tuples can be used as dictionary keys, unlike lists.\n",
        "\n",
        "Example:\n",
        "\n",
        "my_tuple = (1, 2, 3)\n",
        "my_tuple[0] = 10  # ❌ TypeError: 'tuple' object does not support item assignment"
      ],
      "metadata": {
        "id": "SwHWkevPviCr"
      }
    },
    {
      "cell_type": "markdown",
      "source": [
        "Q16.  What is a nested dictionary, and give an example of its use case ?"
      ],
      "metadata": {
        "id": "7zt-ianlvwfy"
      }
    },
    {
      "cell_type": "markdown",
      "source": [
        "Ans .  A nested dictionary is a dictionary that contains another dictionary as a value. It is useful for storing hierarchical or structured data.\n",
        "\n",
        "Example Use Case: Storing Student Records\n",
        "\n",
        "students = {\n",
        "    \"Alice\": {\"age\": 20, \"grade\": \"A\"},\n",
        "    \"Bob\": {\"age\": 22, \"grade\": \"B\"}\n",
        "}\n",
        "print(students[\"Alice\"][\"grade\"])  # Output: A\n",
        "\n",
        "Use Case: Organizing complex data like JSON structures, database records, or configuration settings."
      ],
      "metadata": {
        "id": "lkSTRkJcv21C"
      }
    },
    {
      "cell_type": "markdown",
      "source": [
        "Q17. Describe the time complexity of accessing elements in a dictionary ?"
      ],
      "metadata": {
        "id": "HQ4fdxeLwDg9"
      }
    },
    {
      "cell_type": "markdown",
      "source": [
        "Ans. Accessing elements in a dictionary has an average time complexity of O(1) because Python uses a hash table for lookups.\n",
        "\n",
        "Time Complexity Breakdown:\n",
        "1. Best/Average Case: O(1) → Direct key access via hashing.\n",
        "\n",
        "2. Worst Case: O(n) → When hash collisions occur, requiring a linear search in a bucket.\n",
        "\n",
        "Example:\n",
        "\n",
        "my_dict = {\"a\": 1, \"b\": 2}\n",
        "print(my_dict[\"a\"])  # O(1) lookup"
      ],
      "metadata": {
        "id": "jt7wmQf4wHth"
      }
    },
    {
      "cell_type": "markdown",
      "source": [
        "Q18. In what situations are lists preferred over dictionaries ?"
      ],
      "metadata": {
        "id": "_4Hv2-4kxOLp"
      }
    },
    {
      "cell_type": "markdown",
      "source": [
        "Ans. Lists are preferred over dictionaries when:\n",
        "\n",
        "1. Order Matters – Lists maintain the order of elements, unlike dictionaries (before Python 3.7).\n",
        "\n",
        "2. Sequential Access – Ideal for iterating over elements without key-value mapping.\n",
        "\n",
        "3. Index-Based Access – Use when elements are accessed by position, not by keys.\n",
        "\n",
        "4. Simple Data Storage – Best for homogeneous data like a list of numbers or names.\n",
        "\n",
        "5. Less Memory Overhead – Lists consume less memory than dictionaries for small datasets.\n",
        "\n",
        "Example:\n",
        "\n",
        "names = [\"Alice\", \"Bob\", \"Charlie\"]  # Simple ordered collection\n"
      ],
      "metadata": {
        "id": "uaeh8cpzxSrq"
      }
    },
    {
      "cell_type": "markdown",
      "source": [
        "Q19. Why are dictionaries considered unordered, and how does that affect data retrieval ?"
      ],
      "metadata": {
        "id": "0nOKmCPkx97H"
      }
    },
    {
      "cell_type": "markdown",
      "source": [
        "Ans. Dictionaries were considered unordered before Python 3.7 because they used hash tables, which stored key-value pairs based on hash values, not insertion order.\n",
        "\n",
        "Effects on Data Retrieval:\n",
        "\n",
        "1. Unpredictable Order (Pre-3.7) – Items might not appear in the order they were inserted.\n",
        "\n",
        "2. Fast Key Lookups (O(1)) – Since ordering isn’t a priority, dictionaries optimize for quick access.\n",
        "\n",
        "3. Since Python 3.7+ – Dictionaries preserve insertion order, but retrieval is still based on keys, not positions.\n",
        "\n",
        "Example:\n",
        "\n",
        "my_dict = {\"b\": 2, \"a\": 1}\n",
        "print(my_dict)  # Output: {'b': 2, 'a': 1} (order preserved in Python 3.7+)\n"
      ],
      "metadata": {
        "id": "zF9Nvn5hyDRX"
      }
    },
    {
      "cell_type": "markdown",
      "source": [
        "Q20.  Explain the difference between a list and a dictionary in terms of data retrieval ?"
      ],
      "metadata": {
        "id": "OLVcGbX2yqru"
      }
    },
    {
      "cell_type": "markdown",
      "source": [
        "Ans.   Difference Between List and Dictionary in Data Retrieval:\n",
        "\n",
        "(A) Access Method:\n",
        "\n",
        "1. List: Uses index-based retrieval (O(1)).\n",
        "\n",
        "2. Dictionary: Uses key-based retrieval (O(1) on average).\n",
        "\n",
        "(B) Search Efficiency:\n",
        "\n",
        "1. List: Searching for an element (x in list) takes O(n).\n",
        "\n",
        "2. Dictionary: Checking for a key (key in dict) takes O(1) on average.\n",
        "\n",
        "(C) Use Case:\n",
        "\n",
        "1. List: Best for ordered collections where elements are accessed sequentially.\n",
        "\n",
        "2. Dictionary: Best for key-value mappings where quick lookups are needed.\n",
        "\n",
        "Example:\n",
        "\n",
        "# List retrieval (by index)\n",
        "my_list = [10, 20, 30]\n",
        "print(my_list[1])  # Output: 20\n",
        "\n",
        "# Dictionary retrieval (by key)\n",
        "my_dict = {\"a\": 10, \"b\": 20}\n",
        "print(my_dict[\"b\"])  # Output: 20"
      ],
      "metadata": {
        "id": "26Du8onVywMB"
      }
    }
  ]
}